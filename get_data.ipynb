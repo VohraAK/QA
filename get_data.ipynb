{
 "cells": [
  {
   "cell_type": "code",
   "execution_count": 3,
   "id": "ec9d28a4",
   "metadata": {},
   "outputs": [],
   "source": [
    "from datasets import load_dataset"
   ]
  },
  {
   "cell_type": "code",
   "execution_count": 16,
   "id": "30228670",
   "metadata": {},
   "outputs": [],
   "source": [
    "squad_train = load_dataset(\"rajpurkar/squad_v2\", split='train')\n",
    "squad_val = load_dataset(\"rajpurkar/squad_v2\", split='validation')\n",
    "\n",
    "coqa_train = load_dataset(\"stanfordnlp/coqa\", split='train')\n",
    "coqa_val = load_dataset(\"stanfordnlp/coqa\", split='validation')"
   ]
  },
  {
   "cell_type": "code",
   "execution_count": null,
   "id": "de319782",
   "metadata": {},
   "outputs": [
    {
     "data": {
      "application/vnd.jupyter.widget-view+json": {
       "model_id": "aa57ef0abd4447109a209239a45ecae9",
       "version_major": 2,
       "version_minor": 0
      },
      "text/plain": [
       "Saving the dataset (0/1 shards):   0%|          | 0/7199 [00:00<?, ? examples/s]"
      ]
     },
     "metadata": {},
     "output_type": "display_data"
    },
    {
     "data": {
      "application/vnd.jupyter.widget-view+json": {
       "model_id": "33962047b8bf43b8995fa860d46f379d",
       "version_major": 2,
       "version_minor": 0
      },
      "text/plain": [
       "Saving the dataset (0/1 shards):   0%|          | 0/500 [00:00<?, ? examples/s]"
      ]
     },
     "metadata": {},
     "output_type": "display_data"
    }
   ],
   "source": [
    "# squad_train.save_to_disk(\"./datasets/squad_v2_train\")\n",
    "# squad_val.save_to_disk(\"./datasets/squad_v2_val\")\n",
    "\n",
    "# coqa_train.save_to_disk(\"./datasets/coqa_train\")\n",
    "# coqa_val.save_to_disk(\"./datasets/coqa_val\")"
   ]
  }
 ],
 "metadata": {
  "kernelspec": {
   "display_name": "QA",
   "language": "python",
   "name": "python3"
  },
  "language_info": {
   "codemirror_mode": {
    "name": "ipython",
    "version": 3
   },
   "file_extension": ".py",
   "mimetype": "text/x-python",
   "name": "python",
   "nbconvert_exporter": "python",
   "pygments_lexer": "ipython3",
   "version": "3.13.5"
  }
 },
 "nbformat": 4,
 "nbformat_minor": 5
}
