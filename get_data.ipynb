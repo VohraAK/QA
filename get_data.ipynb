{
 "cells": [
  {
   "cell_type": "code",
   "execution_count": 1,
   "id": "ec9d28a4",
   "metadata": {},
   "outputs": [],
   "source": [
    "from datasets import load_dataset, load_from_disk"
   ]
  },
  {
   "cell_type": "code",
   "execution_count": null,
   "id": "30228670",
   "metadata": {},
   "outputs": [],
   "source": [
    "squad_train = load_dataset(\"rajpurkar/squad_v2\")\n",
    "squad_val = load_dataset(\"rajpurkar/squad_v2\", split='validation')\n",
    "\n",
    "coqa_train = load_dataset(\"stanfordnlp/coqa\", split='train')\n",
    "coqa_val = load_dataset(\"stanfordnlp/coqa\", split='validation')\n"
   ]
  },
  {
   "cell_type": "code",
   "execution_count": 3,
   "id": "385f5242",
   "metadata": {},
   "outputs": [
    {
     "data": {
      "application/vnd.jupyter.widget-view+json": {
       "model_id": "297a1445c00f4b039f0a710df9cd2d68",
       "version_major": 2,
       "version_minor": 0
      },
      "text/plain": [
       "Saving the dataset (0/1 shards):   0%|          | 0/130319 [00:00<?, ? examples/s]"
      ]
     },
     "metadata": {},
     "output_type": "display_data"
    },
    {
     "data": {
      "application/vnd.jupyter.widget-view+json": {
       "model_id": "74f0d87b062c45f2b096e2e715f34979",
       "version_major": 2,
       "version_minor": 0
      },
      "text/plain": [
       "Saving the dataset (0/1 shards):   0%|          | 0/11873 [00:00<?, ? examples/s]"
      ]
     },
     "metadata": {},
     "output_type": "display_data"
    },
    {
     "data": {
      "application/vnd.jupyter.widget-view+json": {
       "model_id": "8da545d8b4764ece99f846e769175b1f",
       "version_major": 2,
       "version_minor": 0
      },
      "text/plain": [
       "Saving the dataset (0/1 shards):   0%|          | 0/7199 [00:00<?, ? examples/s]"
      ]
     },
     "metadata": {},
     "output_type": "display_data"
    },
    {
     "data": {
      "application/vnd.jupyter.widget-view+json": {
       "model_id": "ece9e3459e1d42858bd8378e11762bf1",
       "version_major": 2,
       "version_minor": 0
      },
      "text/plain": [
       "Saving the dataset (0/1 shards):   0%|          | 0/500 [00:00<?, ? examples/s]"
      ]
     },
     "metadata": {},
     "output_type": "display_data"
    }
   ],
   "source": [
    "squad_train.save_to_disk(\"./datasets/squad_v2_train\")\n",
    "squad_val.save_to_disk(\"./datasets/squad_v2_val\")\n",
    "\n",
    "coqa_train.save_to_disk(\"./datasets/coqa_train\")\n",
    "coqa_val.save_to_disk(\"./datasets/coqa_val\")"
   ]
  }
 ],
 "metadata": {
  "kernelspec": {
   "display_name": "QA",
   "language": "python",
   "name": "python3"
  },
  "language_info": {
   "codemirror_mode": {
    "name": "ipython",
    "version": 3
   },
   "file_extension": ".py",
   "mimetype": "text/x-python",
   "name": "python",
   "nbconvert_exporter": "python",
   "pygments_lexer": "ipython3",
   "version": "3.13.5"
  }
 },
 "nbformat": 4,
 "nbformat_minor": 5
}
