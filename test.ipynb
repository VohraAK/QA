{
 "cells": [
  {
   "cell_type": "code",
   "execution_count": 1,
   "id": "ec9d28a4",
   "metadata": {},
   "outputs": [],
   "source": [
    "from datasets import load_dataset"
   ]
  },
  {
   "cell_type": "code",
   "execution_count": 2,
   "id": "30228670",
   "metadata": {},
   "outputs": [],
   "source": [
    "squad_train = load_dataset(\"rajpurkar/squad_v2\", split='train')\n",
    "squad_val = load_dataset(\"rajpurkar/squad_v2\", split='validation')"
   ]
  },
  {
   "cell_type": "code",
   "execution_count": 3,
   "id": "de319782",
   "metadata": {},
   "outputs": [
    {
     "data": {
      "application/vnd.jupyter.widget-view+json": {
       "model_id": "3d8a754c882048eeac5ad4384ff41074",
       "version_major": 2,
       "version_minor": 0
      },
      "text/plain": [
       "Saving the dataset (0/1 shards):   0%|          | 0/130319 [00:00<?, ? examples/s]"
      ]
     },
     "metadata": {},
     "output_type": "display_data"
    },
    {
     "data": {
      "application/vnd.jupyter.widget-view+json": {
       "model_id": "1197cac0dc81440a8117ac1ad37663ac",
       "version_major": 2,
       "version_minor": 0
      },
      "text/plain": [
       "Saving the dataset (0/1 shards):   0%|          | 0/11873 [00:00<?, ? examples/s]"
      ]
     },
     "metadata": {},
     "output_type": "display_data"
    }
   ],
   "source": [
    "squad_train.save_to_disk(\"./datasets/squad_v2_train\")\n",
    "squad_val.save_to_disk(\"./datasets/squad_v2_val\")"
   ]
  }
 ],
 "metadata": {
  "kernelspec": {
   "display_name": "QA",
   "language": "python",
   "name": "python3"
  },
  "language_info": {
   "codemirror_mode": {
    "name": "ipython",
    "version": 3
   },
   "file_extension": ".py",
   "mimetype": "text/x-python",
   "name": "python",
   "nbconvert_exporter": "python",
   "pygments_lexer": "ipython3",
   "version": "3.13.5"
  }
 },
 "nbformat": 4,
 "nbformat_minor": 5
}
